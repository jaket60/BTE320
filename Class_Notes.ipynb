{
  "nbformat": 4,
  "nbformat_minor": 0,
  "metadata": {
    "colab": {
      "provenance": [],
      "include_colab_link": true
    },
    "kernelspec": {
      "name": "python3",
      "display_name": "Python 3"
    },
    "language_info": {
      "name": "python"
    }
  },
  "cells": [
    {
      "cell_type": "markdown",
      "metadata": {
        "id": "view-in-github",
        "colab_type": "text"
      },
      "source": [
        "<a href=\"https://colab.research.google.com/github/jaket60/BTE320/blob/main/Class_Notes.ipynb\" target=\"_parent\"><img src=\"https://colab.research.google.com/assets/colab-badge.svg\" alt=\"Open In Colab\"/></a>"
      ]
    },
    {
      "cell_type": "code",
      "source": [
        "for output in range(1,9)\n",
        "  base=5\n",
        "  hourly=2.5\n",
        "  fee= base+ output*hourly\n",
        "  print(f\"{output} {fee}$\")"
      ],
      "metadata": {
        "id": "Kc0QWprFo8VB"
      },
      "execution_count": null,
      "outputs": []
    },
    {
      "cell_type": "code",
      "source": [
        "def play_game():\n",
        "  import random\n",
        "  pc_choice = random.choice(['Rock','Paper','Scissors'])\n",
        "  userchoice = input(\"Enter your Option; Rock, Paper, or Scissors: \")\n",
        "  if userchoice == pc_choice:\n",
        "    print('Its a Tie')\n",
        "  elif ((userchoice == \"Rock\" and pc_choice == \"Scissors\") or\n",
        "      (userchoice == \"Scissors\" and pc_choice == \"Paper\") or\n",
        "      (userchoice == \"Paper\" and pc_choice == \"Rock\")):\n",
        "      print ('You Win!')\n",
        "  else:\n",
        "    print('Computer Wins :(')\n",
        "def main():\n",
        "    while True:\n",
        "        play_game()\n",
        "        response = input(\"Do you want to play again? (yes/no): \").lower()\n",
        "        while response not in ('yes', 'no'):\n",
        "            response = input(\"Please enter 'yes' or 'no': \").lower()\n",
        "        if response == 'no':\n",
        "            print(\"Thanks for playing! Goodbye.\")\n",
        "            break\n",
        "\n",
        "if __name__ == \"__main__\":\n",
        "    main()\n"
      ],
      "metadata": {
        "id": "3IiU8Nk1NHVn"
      },
      "execution_count": null,
      "outputs": []
    },
    {
      "cell_type": "code",
      "source": [
        "import random\n",
        "pc_choice = random.choice(['Rock','Paper','Scissors'])\n",
        "\n",
        "userchoice = input(\"Enter your Option; Rock, Paper, or Scissors: \")\n",
        "\n",
        "if userchoice == pc_choice:\n",
        "  print('Its a Tie')\n",
        "\n",
        "elif ((userchoice == \"Rock\" and pc_choice == \"Scissors\") or\n",
        "      (userchoice == \"Scissors\" and pc_choice == \"Paper\") or\n",
        "      (userchoice == \"Paper\" and pc_choice == \"Rock\")):\n",
        "  print ('You Win!')\n",
        "\n",
        "else:\n",
        "  print('Computer Wins :(')"
      ],
      "metadata": {
        "id": "igXAr1LrMnAh"
      },
      "execution_count": null,
      "outputs": []
    },
    {
      "cell_type": "code",
      "source": [
        "i=1\n",
        "n=5\n",
        "\n",
        "for var in range (1,5):\n",
        "  print(var)\n"
      ],
      "metadata": {
        "colab": {
          "base_uri": "https://localhost:8080/"
        },
        "id": "LBnKkDKiIYBS",
        "outputId": "1b680803-fa2d-4293-9c98-ac0af595581a"
      },
      "execution_count": null,
      "outputs": [
        {
          "output_type": "stream",
          "name": "stdout",
          "text": [
            "1\n",
            "2\n",
            "3\n",
            "4\n"
          ]
        }
      ]
    },
    {
      "cell_type": "code",
      "source": [
        "ticket=10\n",
        "forecast=20\n",
        "fixed_cost=200\n",
        "for advertisement in range(0,201,25):\n",
        "  Additional_attendees= 2*round(advertisement**0.5)\n",
        "  profit=(Additional_attendees+forecast)*ticket-fixed_cost-advertisement\n",
        "  print(f\"{advertisement} {profit}\")\n"
      ],
      "metadata": {
        "colab": {
          "base_uri": "https://localhost:8080/"
        },
        "id": "qYPhFiWX8wvR",
        "outputId": "68f1df3a-cd29-4d27-8de6-95b80c52efcb"
      },
      "execution_count": null,
      "outputs": [
        {
          "output_type": "stream",
          "name": "stdout",
          "text": [
            "0 0\n",
            "25 75\n",
            "50 90\n",
            "75 105\n",
            "100 100\n",
            "125 95\n",
            "150 90\n",
            "175 85\n",
            "200 80\n"
          ]
        }
      ]
    },
    {
      "cell_type": "code",
      "source": [
        "for hour in range(1,9):\n",
        "  hourly_fee = 2.5\n",
        "  base_fee =5.0\n",
        "  fee= base_fee + hour* hourly_fee\n",
        "  if fee < 10:\n",
        "    fee = 10\n",
        "  elif fee > 20.0:\n",
        "    fee = 20\n",
        "  print(hour,fee)"
      ],
      "metadata": {
        "id": "OBrCRwuw3ozS",
        "colab": {
          "base_uri": "https://localhost:8080/"
        },
        "outputId": "d5d9df81-68e2-4da0-da64-ad157850334b"
      },
      "execution_count": null,
      "outputs": [
        {
          "output_type": "stream",
          "name": "stdout",
          "text": [
            "1 10\n",
            "2 10.0\n",
            "3 12.5\n",
            "4 15.0\n",
            "5 17.5\n",
            "6 20.0\n",
            "7 20\n",
            "8 20\n"
          ]
        }
      ]
    },
    {
      "cell_type": "code",
      "source": [
        "for output in range(1,9)\n",
        "  base=5\n",
        "  hourly=2.5\n",
        "  fee= base+ output*hourly\n",
        "  print(f\"{output} {fee}$\")\n"
      ],
      "metadata": {
        "id": "B1M8k0pI1QrW"
      },
      "execution_count": null,
      "outputs": []
    },
    {
      "cell_type": "code",
      "source": [
        "for month in range(1,13,1):\n",
        "  print(month)\n"
      ],
      "metadata": {
        "colab": {
          "base_uri": "https://localhost:8080/"
        },
        "id": "-no1zhUonbqg",
        "outputId": "3b15700f-2be1-4ac7-a70a-c42ef5bdfa15"
      },
      "execution_count": null,
      "outputs": [
        {
          "output_type": "stream",
          "name": "stdout",
          "text": [
            "1\n",
            "2\n",
            "3\n",
            "4\n",
            "5\n",
            "6\n",
            "7\n",
            "8\n",
            "9\n",
            "10\n",
            "11\n",
            "12\n"
          ]
        }
      ]
    },
    {
      "cell_type": "code",
      "source": [
        "from ColabTurtlePlus.Turtle import *\n",
        "\n",
        "clearscreen()\n",
        "\n",
        "color('black','purple')\n",
        "begin_fill()\n",
        "jumpto(0,0)\n",
        "\n",
        "for var in range(4):\n",
        "  forward(100)\n",
        "  left(90)\n",
        "\n",
        "\n",
        "end_fill()"
      ],
      "metadata": {
        "colab": {
          "base_uri": "https://localhost:8080/",
          "height": 621
        },
        "id": "k78YOFLfhwGm",
        "outputId": "83700c98-5aac-431a-a0e3-24dc765ab77c"
      },
      "execution_count": null,
      "outputs": [
        {
          "output_type": "display_data",
          "data": {
            "text/plain": [
              "<IPython.core.display.HTML object>"
            ],
            "text/html": [
              "\n",
              "      <svg width=\"800\" height=\"600\">  \n",
              "        <rect width=\"100%\" height=\"100%\" style=\"fill:white;stroke:;stroke-width:1\"/>\n",
              "        \n",
              "        \n",
              "        <path fill-rule=\"evenodd\" fill-opacity=\"1\" d=\"M 400.0 300.0  L 400.0 300.0  L 500.0 300.0  L 500.0 200.0  L 400.0 200.0  L 400.0 300.0 \" stroke-linecap=\"round\" style=\"stroke:black;stroke-width:1\" fill=\"purple\" />\n",
              "        \n",
              "        \n",
              "        <g id=\"classic\" visibility=\"visible\" transform=\"rotate(-90,400.0,300.0) translate(400.0, 300.0)\">\n",
              "<polygon points=\"-5,-4.5 0,-2.5 5,-4.5 0,4.5\" transform=\"skewX(0) scale(1,1)\" style=\"stroke:black;fill:purple;stroke-width:1\" />\n",
              "</g>\n",
              "      </svg>\n",
              "    "
            ]
          },
          "metadata": {}
        }
      ]
    },
    {
      "cell_type": "code",
      "source": [
        "!pip install ColabTurtlePlus"
      ],
      "metadata": {
        "colab": {
          "base_uri": "https://localhost:8080/"
        },
        "id": "qLZ4fB4ohVA_",
        "outputId": "95800bd2-7dc8-4d47-ce92-2f9581c66939"
      },
      "execution_count": null,
      "outputs": [
        {
          "output_type": "stream",
          "name": "stdout",
          "text": [
            "Collecting ColabTurtlePlus\n",
            "  Downloading ColabTurtlePlus-2.0.1-py3-none-any.whl (31 kB)\n",
            "Installing collected packages: ColabTurtlePlus\n",
            "Successfully installed ColabTurtlePlus-2.0.1\n"
          ]
        }
      ]
    },
    {
      "cell_type": "code",
      "source": [
        "import random\n",
        "pc_choice = random.choice(['Rock','Paper','Scissors'])\n",
        "\n",
        "userchoice = input(\"Enter your Option; Rock, Paper, or Scissors: \")\n",
        "\n",
        "if userchoice == pc_choice:\n",
        "  print('Its a Tie')\n",
        "\n",
        "elif ((userchoice == \"Rock\" and pc_choice == \"Scissors\") or\n",
        "      (userchoice == \"Scissors\" and pc_choice == \"Paper\") or\n",
        "      (userchoice == \"Paper\" and pc_choice == \"Rock\")):\n",
        "  print ('You Win!')\n",
        "\n",
        "else:\n",
        "  print('Computer Wins :(')"
      ],
      "metadata": {
        "id": "H4QJVMuNMsjp",
        "colab": {
          "base_uri": "https://localhost:8080/"
        },
        "outputId": "942d0300-b5a6-4788-b82e-4917b9053288"
      },
      "execution_count": null,
      "outputs": [
        {
          "output_type": "stream",
          "name": "stdout",
          "text": [
            "Enter your Option; Rock, Paper, or Scissors: rock\n",
            "Computer Wins :(\n"
          ]
        }
      ]
    },
    {
      "cell_type": "code",
      "source": [],
      "metadata": {
        "id": "m_nEN1SULYfH"
      },
      "execution_count": null,
      "outputs": []
    },
    {
      "cell_type": "code",
      "source": [
        "import random\n",
        "\n",
        "pc_choice = random.choice(['Rock','Paper','Scissors'])\n",
        "\n",
        "\n",
        "x = input('Choose Rock, Paper, or Scissors: ')\n",
        "\n",
        "if pc_choice == x:\n",
        "  print (\"It's a tie\")\n",
        "\n",
        "elif pc_choice == 'Rock' and x == 'Paper':\n",
        "  print (\"you win\")\n",
        "\n",
        "elif pc_choice == 'Rock' and x == 'Scissors':\n",
        "  print (\"you loose\")\n",
        "\n",
        "elif pc_choice == 'Paper' and x == 'Rock':\n",
        "  print (\"you loose\")\n",
        "\n",
        "elif pc_choice == 'Paper' and x == 'Scissors':\n",
        "  print (\"you loose\")\n",
        "\n",
        "elif pc_choice == 'Scissors' and x == 'Paper':\n",
        "  print (\"you loose\")\n",
        "\n",
        "elif pc_choice == 'Scissors' and x == 'Rock':\n",
        "  print (\"you win\")\n",
        "\n",
        "print ('the computer chose:')\n",
        "print (pc_choice)\n",
        "\n",
        "\n"
      ],
      "metadata": {
        "id": "7a6is5T84xfD"
      },
      "execution_count": null,
      "outputs": []
    }
  ]
}