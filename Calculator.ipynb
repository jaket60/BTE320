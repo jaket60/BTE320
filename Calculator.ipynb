{
  "nbformat": 4,
  "nbformat_minor": 0,
  "metadata": {
    "colab": {
      "provenance": [],
      "authorship_tag": "ABX9TyPeWai7AX5XI0S6AtIkLj4o",
      "include_colab_link": true
    },
    "kernelspec": {
      "name": "python3",
      "display_name": "Python 3"
    },
    "language_info": {
      "name": "python"
    }
  },
  "cells": [
    {
      "cell_type": "markdown",
      "metadata": {
        "id": "view-in-github",
        "colab_type": "text"
      },
      "source": [
        "<a href=\"https://colab.research.google.com/github/jaket60/BTE320/blob/main/Calculator.ipynb\" target=\"_parent\"><img src=\"https://colab.research.google.com/assets/colab-badge.svg\" alt=\"Open In Colab\"/></a>"
      ]
    },
    {
      "cell_type": "code",
      "source": [
        "def add(num1, num2):\n",
        "\treturn num1 + num2\n",
        "def subtract(num1, num2):\n",
        "\treturn num1 - num2\n",
        "def multiply(num1, num2):\n",
        "\treturn num1 * num2\n",
        "def divide(num1, num2):\n",
        "\treturn num1 / num2\n",
        "def floor_divide(num1, num2):\n",
        "  return num1 // num2\n",
        "def exponent(num1, num2):\n",
        "  return num1 ** num2\n",
        "def remainder(num1, num2):\n",
        "  return num1 % num2\n",
        "\n",
        "print(\"Please select operation\\n\"\n",
        "\t\t\"1.Add\\n\"\n",
        "\t\t\"2.Subtract\\n\"\n",
        "\t\t\"3.Multiply\\n\"\n",
        "\t\t\"4.Divide\\n\"\n",
        "    \"5.Floor Divide\\n\"\n",
        "    \"6.Exponent\\n\"\n",
        "    \"7.Exponent\\n\")\n",
        "\n",
        "while True:\n",
        "\n",
        "  select = int(input(\"Choose Operation 1, 2, 3, 4, 5, 6, 7 :\"))\n",
        "\n",
        "  number_1 = int(input(\"Enter first number: \"))\n",
        "  number_2 = int(input(\"Enter second number: \"))\n",
        "\n",
        "  if select == 1:\n",
        "\t  print(number_1, \"+\", number_2, \"=\",\n",
        "\t\t\t\t\tadd(number_1, number_2))\n",
        "  elif select == 2:\n",
        "\t  print(number_1, \"-\", number_2, \"=\",\n",
        "\t\t\t\t\tsubtract(number_1, number_2))\n",
        "  elif select == 3:\n",
        "\t  print(number_1, \"*\", number_2, \"=\",\n",
        "\t\t\t\t\tmultiply(number_1, number_2))\n",
        "  elif select == 4:\n",
        "\t  print(number_1, \"/\", number_2, \"=\",\n",
        "\t\t\t\t\tdivide(number_1, number_2))\n",
        "  elif select == 5:\n",
        "\t  print(number_1, \"//\", number_2, \"=\",\n",
        "\t\t\t\t\tfloor_divide(number_1, number_2))\n",
        "  elif select == 6:\n",
        "\t  print(number_1, \"**\", number_2, \"=\",\n",
        "\t\t\t\t\texponent(number_1, number_2))\n",
        "  elif select == 7:\n",
        "    print(number_1, \"%\", number_2,\"=\",\n",
        "        remainder(number_1, number_2))\n",
        "\n",
        "  next_calculation = input(\"Continue? (yes/no): \")\n",
        "  if next_calculation == \"no\":\n",
        "    break"
      ],
      "metadata": {
        "colab": {
          "base_uri": "https://localhost:8080/"
        },
        "id": "i-y1oS5EcSwl",
        "outputId": "04d1e686-f495-47c7-9428-6463b4cc8572"
      },
      "execution_count": null,
      "outputs": [
        {
          "output_type": "stream",
          "name": "stdout",
          "text": [
            "Please select operation\n",
            "1.Add\n",
            "2.Subtract\n",
            "3.Multiply\n",
            "4.Divide\n",
            "5.Floor Divide\n",
            "6.Exponent\n",
            "7.Exponent\n",
            "\n"
          ]
        }
      ]
    }
  ]
}