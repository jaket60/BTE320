{
  "nbformat": 4,
  "nbformat_minor": 0,
  "metadata": {
    "colab": {
      "provenance": [],
      "authorship_tag": "ABX9TyM3p9m+HhjkxunKG3b0uGAo",
      "include_colab_link": true
    },
    "kernelspec": {
      "name": "python3",
      "display_name": "Python 3"
    },
    "language_info": {
      "name": "python"
    }
  },
  "cells": [
    {
      "cell_type": "markdown",
      "metadata": {
        "id": "view-in-github",
        "colab_type": "text"
      },
      "source": [
        "<a href=\"https://colab.research.google.com/github/jaket60/BTE320/blob/main/Append_Activity.ipynb\" target=\"_parent\"><img src=\"https://colab.research.google.com/assets/colab-badge.svg\" alt=\"Open In Colab\"/></a>"
      ]
    },
    {
      "cell_type": "code",
      "execution_count": 10,
      "metadata": {
        "colab": {
          "base_uri": "https://localhost:8080/"
        },
        "id": "LLJ9h2KaD6Uj",
        "outputId": "e960a17f-452b-4a2a-ae69-eba08d2961de"
      },
      "outputs": [
        {
          "output_type": "stream",
          "name": "stdout",
          "text": [
            "Enter a value: 2\n",
            "Enter an integer: 3\n",
            "Enter an integer: 2\n",
            "Enter an integer: 0\n",
            "[2, 3, 2]\n"
          ]
        }
      ],
      "source": [
        "L = []\n",
        "\n",
        "number= int(input('Enter a value: '))\n",
        "\n",
        "while number !=0:\n",
        "  L.append(number)\n",
        "  number = int(input('Enter an integer: '))\n",
        "print(L)\n",
        "\n"
      ]
    }
  ]
}